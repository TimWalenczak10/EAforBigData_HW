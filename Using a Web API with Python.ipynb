{
 "cells": [
  {
   "cell_type": "code",
   "execution_count": 1,
   "metadata": {},
   "outputs": [],
   "source": [
    "import requests\n",
    "import json"
   ]
  },
  {
   "cell_type": "code",
   "execution_count": 2,
   "metadata": {},
   "outputs": [
    {
     "name": "stdout",
     "output_type": "stream",
     "text": [
      "200\n"
     ]
    }
   ],
   "source": [
    "response = requests.get(\"https://api.randomuser.me/\")\n",
    "print(response.status_code)"
   ]
  },
  {
   "cell_type": "code",
   "execution_count": 3,
   "metadata": {},
   "outputs": [],
   "source": [
    "parameters = {\"gender\": \"male\", \"nat\": \"us\", \"results\":10}\n",
    "response = requests.get(\"https://api.randomuser.me/\", params=parameters)"
   ]
  },
  {
   "cell_type": "code",
   "execution_count": 4,
   "metadata": {},
   "outputs": [
    {
     "data": {
      "text/plain": [
       "'{\"results\":[{\"gender\":\"male\",\"name\":{\"title\":\"Mr\",\"first\":\"Clarence\",\"last\":\"Bryant\"},\"location\":{\"street\":{\"number\":488,\"name\":\"Taylor St\"},\"city\":\"Boulder\",\"state\":\"Ohio\",\"country\":\"United States\",\"postcode\":14026,\"coordinates\":{\"latitude\":\"-67.7936\",\"longitude\":\"-117.4332\"},\"timezone\":{\"offset\":\"-9:00\",\"description\":\"Alaska\"}},\"email\":\"clarence.bryant@example.com\",\"login\":{\"uuid\":\"120d1b01-f0c1-47ac-8f68-bb447d5ad678\",\"username\":\"yellowgorilla574\",\"password\":\"russia\",\"salt\":\"e9bUgBQX\",\"md5\":\"5857678ad118a533565e33b8a13e4f7d\",\"sha1\":\"91c6903588d566dc1fd78575d90697c79533595f\",\"sha256\":\"351c0a4b5e744f30c83bfd2aa14effee55d757f6d6a3716b8c02ebbfc42e0c2c\"},\"dob\":{\"date\":\"1985-03-09T08:34:23.977Z\",\"age\":35},\"registered\":{\"date\":\"2015-04-27T22:57:37.738Z\",\"age\":5},\"phone\":\"(248)-368-4452\",\"cell\":\"(414)-399-2226\",\"id\":{\"name\":\"SSN\",\"value\":\"534-84-4458\"},\"picture\":{\"large\":\"https://randomuser.me/api/portraits/men/30.jpg\",\"medium\":\"https://randomuser.me/api/portraits/med/men/30.jpg\",\"thumbnail\":\"https://randomuser.me/api/portraits/thumb/men/30.jpg\"},\"nat\":\"US\"},{\"gender\":\"male\",\"name\":{\"title\":\"Mr\",\"first\":\"Johnni\",\"last\":\"Bell\"},\"location\":{\"street\":{\"number\":5155,\"name\":\"Cackson St\"},\"city\":\"Tucson\",\"state\":\"Idaho\",\"country\":\"United States\",\"postcode\":60708,\"coordinates\":{\"latitude\":\"-47.1911\",\"longitude\":\"-14.0607\"},\"timezone\":{\"offset\":\"-1:00\",\"description\":\"Azores, Cape Verde Islands\"}},\"email\":\"johnni.bell@example.com\",\"login\":{\"uuid\":\"174ee443-a857-4d77-b9e6-80681e392061\",\"username\":\"purplefrog800\",\"password\":\"picasso\",\"salt\":\"jaygeI2h\",\"md5\":\"719e05e1eb2763251950b4aa2628f24f\",\"sha1\":\"cd00b0e11ca2a10212770947b6bec3ccdea55468\",\"sha256\":\"576b07143b0df352222c9ba546e56a27cc5072c1c563755b1b1f65b1430b20f4\"},\"dob\":{\"date\":\"1973-08-02T14:34:47.611Z\",\"age\":47},\"registered\":{\"date\":\"2017-10-08T20:05:17.866Z\",\"age\":3},\"phone\":\"(336)-445-2259\",\"cell\":\"(698)-842-8042\",\"id\":{\"name\":\"SSN\",\"value\":\"434-26-9165\"},\"picture\":{\"large\":\"https://randomuser.me/api/portraits/men/67.jpg\",\"medium\":\"https://randomuser.me/api/portraits/med/men/67.jpg\",\"thumbnail\":\"https://randomuser.me/api/portraits/thumb/men/67.jpg\"},\"nat\":\"US\"},{\"gender\":\"male\",\"name\":{\"title\":\"Mr\",\"first\":\"Alberto\",\"last\":\"Edwards\"},\"location\":{\"street\":{\"number\":1461,\"name\":\"Bruce St\"},\"city\":\"Pasadena\",\"state\":\"Vermont\",\"country\":\"United States\",\"postcode\":21893,\"coordinates\":{\"latitude\":\"-76.6508\",\"longitude\":\"20.7214\"},\"timezone\":{\"offset\":\"-8:00\",\"description\":\"Pacific Time (US & Canada)\"}},\"email\":\"alberto.edwards@example.com\",\"login\":{\"uuid\":\"d2b95c8e-a44a-4679-b48e-afcd73c06466\",\"username\":\"organicswan476\",\"password\":\"bigfish\",\"salt\":\"A0eXMUOQ\",\"md5\":\"9c42245b84ab6e3b5a0273adecf62283\",\"sha1\":\"7583a0802e321ea6940d500dc25f2412892c4b19\",\"sha256\":\"fe0cbe50e78203501e45473bf81d6f3edb926440caa529fb2e9fba8c7001ce7e\"},\"dob\":{\"date\":\"1988-07-31T20:16:14.831Z\",\"age\":32},\"registered\":{\"date\":\"2013-07-31T09:28:52.213Z\",\"age\":7},\"phone\":\"(846)-855-1346\",\"cell\":\"(088)-785-1608\",\"id\":{\"name\":\"SSN\",\"value\":\"623-74-0673\"},\"picture\":{\"large\":\"https://randomuser.me/api/portraits/men/81.jpg\",\"medium\":\"https://randomuser.me/api/portraits/med/men/81.jpg\",\"thumbnail\":\"https://randomuser.me/api/portraits/thumb/men/81.jpg\"},\"nat\":\"US\"},{\"gender\":\"male\",\"name\":{\"title\":\"Mr\",\"first\":\"Armando\",\"last\":\"Chavez\"},\"location\":{\"street\":{\"number\":4429,\"name\":\"Bruce St\"},\"city\":\"Anna\",\"state\":\"Kentucky\",\"country\":\"United States\",\"postcode\":21114,\"coordinates\":{\"latitude\":\"-16.8765\",\"longitude\":\"-85.6696\"},\"timezone\":{\"offset\":\"+9:00\",\"description\":\"Tokyo, Seoul, Osaka, Sapporo, Yakutsk\"}},\"email\":\"armando.chavez@example.com\",\"login\":{\"uuid\":\"ae2a8e03-221a-4e26-b1c9-baa29d6cacd7\",\"username\":\"smallwolf474\",\"password\":\"studly\",\"salt\":\"1sLfbSb0\",\"md5\":\"a76072640a4ee60d9ff823f67f9b252e\",\"sha1\":\"bec3e930f91e8e63ef838002f6fd17c143f1f3cc\",\"sha256\":\"747023e1ddfce68a9e62ea89b071c3508fdd6a4a8761786b32eb74e65682bac4\"},\"dob\":{\"date\":\"1992-01-12T04:24:48.232Z\",\"age\":28},\"registered\":{\"date\":\"2013-03-18T22:41:58.424Z\",\"age\":7},\"phone\":\"(365)-222-7421\",\"cell\":\"(314)-532-1190\",\"id\":{\"name\":\"SSN\",\"value\":\"214-52-2210\"},\"picture\":{\"large\":\"https://randomuser.me/api/portraits/men/17.jpg\",\"medium\":\"https://randomuser.me/api/portraits/med/men/17.jpg\",\"thumbnail\":\"https://randomuser.me/api/portraits/thumb/men/17.jpg\"},\"nat\":\"US\"},{\"gender\":\"male\",\"name\":{\"title\":\"Mr\",\"first\":\"Chester\",\"last\":\"James\"},\"location\":{\"street\":{\"number\":5654,\"name\":\"Harrison Ct\"},\"city\":\"Jackson\",\"state\":\"Kentucky\",\"country\":\"United States\",\"postcode\":56266,\"coordinates\":{\"latitude\":\"32.4556\",\"longitude\":\"143.6194\"},\"timezone\":{\"offset\":\"+11:00\",\"description\":\"Magadan, Solomon Islands, New Caledonia\"}},\"email\":\"chester.james@example.com\",\"login\":{\"uuid\":\"89166b0c-ebd9-43b0-aa45-c70ac6e02e71\",\"username\":\"crazyostrich608\",\"password\":\"report\",\"salt\":\"ZmOF5oAI\",\"md5\":\"289869ae2bbce0c01af4359d7a590327\",\"sha1\":\"840a8b54480ad6aabc9e07e17e20509848e687e7\",\"sha256\":\"a56d39e3a82352e217384b2baeac8da93df6901baefd5fadcee99da1a3ef3a20\"},\"dob\":{\"date\":\"1988-07-13T03:50:43.592Z\",\"age\":32},\"registered\":{\"date\":\"2003-06-18T07:40:06.574Z\",\"age\":17},\"phone\":\"(265)-814-0943\",\"cell\":\"(500)-668-4494\",\"id\":{\"name\":\"SSN\",\"value\":\"844-21-6677\"},\"picture\":{\"large\":\"https://randomuser.me/api/portraits/men/69.jpg\",\"medium\":\"https://randomuser.me/api/portraits/med/men/69.jpg\",\"thumbnail\":\"https://randomuser.me/api/portraits/thumb/men/69.jpg\"},\"nat\":\"US\"},{\"gender\":\"male\",\"name\":{\"title\":\"Mr\",\"first\":\"Jeffrey\",\"last\":\"Fisher\"},\"location\":{\"street\":{\"number\":358,\"name\":\"W Campbell Ave\"},\"city\":\"Olathe\",\"state\":\"Delaware\",\"country\":\"United States\",\"postcode\":96278,\"coordinates\":{\"latitude\":\"-83.3619\",\"longitude\":\"-57.7462\"},\"timezone\":{\"offset\":\"+1:00\",\"description\":\"Brussels, Copenhagen, Madrid, Paris\"}},\"email\":\"jeffrey.fisher@example.com\",\"login\":{\"uuid\":\"1d4910b0-fdce-46ea-a5a8-333b73241695\",\"username\":\"goldenrabbit213\",\"password\":\"woodland\",\"salt\":\"bzOhrau3\",\"md5\":\"055501876030bb790ae720148cb5afe5\",\"sha1\":\"f38e33c8b39b1f6fc3ba0a60ba510085eb3b7fd2\",\"sha256\":\"e1d1d3447162cea6df3f9eeb6c53bbb843355b336414eacd14f3c1e051130c41\"},\"dob\":{\"date\":\"1989-12-20T23:20:01.198Z\",\"age\":31},\"registered\":{\"date\":\"2002-08-11T09:36:18.437Z\",\"age\":18},\"phone\":\"(495)-942-0269\",\"cell\":\"(790)-263-0678\",\"id\":{\"name\":\"SSN\",\"value\":\"912-87-9361\"},\"picture\":{\"large\":\"https://randomuser.me/api/portraits/men/85.jpg\",\"medium\":\"https://randomuser.me/api/portraits/med/men/85.jpg\",\"thumbnail\":\"https://randomuser.me/api/portraits/thumb/men/85.jpg\"},\"nat\":\"US\"},{\"gender\":\"male\",\"name\":{\"title\":\"Mr\",\"first\":\"Mark\",\"last\":\"Phillips\"},\"location\":{\"street\":{\"number\":134,\"name\":\"Blossom Hill Rd\"},\"city\":\"Tampa\",\"state\":\"Indiana\",\"country\":\"United States\",\"postcode\":11174,\"coordinates\":{\"latitude\":\"-43.3983\",\"longitude\":\"-140.8315\"},\"timezone\":{\"offset\":\"0:00\",\"description\":\"Western Europe Time, London, Lisbon, Casablanca\"}},\"email\":\"mark.phillips@example.com\",\"login\":{\"uuid\":\"1e032693-4411-4927-b957-58d3a8e368b4\",\"username\":\"heavypanda357\",\"password\":\"boobed\",\"salt\":\"Fb0Wokwq\",\"md5\":\"3b7bbc16e35eb15486e7e05cde4f3c1c\",\"sha1\":\"6202b883f5c7d129f9ff7936ea369665018bb7e4\",\"sha256\":\"fdfb161cd2c1da48bd5fd10b66167ebff803e353271f249e48253846fa04b08d\"},\"dob\":{\"date\":\"1957-07-08T00:21:14.934Z\",\"age\":63},\"registered\":{\"date\":\"2017-04-15T13:36:55.944Z\",\"age\":3},\"phone\":\"(293)-539-3241\",\"cell\":\"(368)-516-6081\",\"id\":{\"name\":\"SSN\",\"value\":\"385-70-6682\"},\"picture\":{\"large\":\"https://randomuser.me/api/portraits/men/24.jpg\",\"medium\":\"https://randomuser.me/api/portraits/med/men/24.jpg\",\"thumbnail\":\"https://randomuser.me/api/portraits/thumb/men/24.jpg\"},\"nat\":\"US\"},{\"gender\":\"male\",\"name\":{\"title\":\"Mr\",\"first\":\"Arron\",\"last\":\"Rice\"},\"location\":{\"street\":{\"number\":2301,\"name\":\"Hillcrest Rd\"},\"city\":\"Providence\",\"state\":\"New York\",\"country\":\"United States\",\"postcode\":46102,\"coordinates\":{\"latitude\":\"30.4331\",\"longitude\":\"23.5367\"},\"timezone\":{\"offset\":\"-12:00\",\"description\":\"Eniwetok, Kwajalein\"}},\"email\":\"arron.rice@example.com\",\"login\":{\"uuid\":\"c1b4a8d1-61e7-4690-8aad-77f7d6642a9c\",\"username\":\"redsnake662\",\"password\":\"allegro\",\"salt\":\"K9fN4eE6\",\"md5\":\"4df2351284d8a68c4b88e4a66950ed30\",\"sha1\":\"0025e4633c5db4f3b8ebbb15afe34c5ba627ab51\",\"sha256\":\"ea01ba6adcfffb63d5a352389d115b6284008aa791b95363e7371f8dc3c6d7fe\"},\"dob\":{\"date\":\"1985-12-28T08:15:43.347Z\",\"age\":35},\"registered\":{\"date\":\"2005-04-22T15:10:56.643Z\",\"age\":15},\"phone\":\"(122)-065-1917\",\"cell\":\"(212)-248-4552\",\"id\":{\"name\":\"SSN\",\"value\":\"571-35-1144\"},\"picture\":{\"large\":\"https://randomuser.me/api/portraits/men/76.jpg\",\"medium\":\"https://randomuser.me/api/portraits/med/men/76.jpg\",\"thumbnail\":\"https://randomuser.me/api/portraits/thumb/men/76.jpg\"},\"nat\":\"US\"},{\"gender\":\"male\",\"name\":{\"title\":\"Mr\",\"first\":\"Marion\",\"last\":\"Rogers\"},\"location\":{\"street\":{\"number\":6604,\"name\":\"Green Rd\"},\"city\":\"Columbus\",\"state\":\"Tennessee\",\"country\":\"United States\",\"postcode\":75360,\"coordinates\":{\"latitude\":\"42.1278\",\"longitude\":\"71.3004\"},\"timezone\":{\"offset\":\"-10:00\",\"description\":\"Hawaii\"}},\"email\":\"marion.rogers@example.com\",\"login\":{\"uuid\":\"7370ea2f-06a2-4405-af5c-2d0d6f8f7404\",\"username\":\"orangeladybug933\",\"password\":\"happy2\",\"salt\":\"cCZMilN7\",\"md5\":\"37e64bc23d7f601d1c6c7c24eaaf6826\",\"sha1\":\"4e6a7124897299fe60dd8ace1e7d432ecf06bd61\",\"sha256\":\"f5ec08f3bb4a2496a3b7962633ade5f7f83020bd835dd33ece46295764c1e2d8\"},\"dob\":{\"date\":\"1955-09-02T01:16:01.002Z\",\"age\":65},\"registered\":{\"date\":\"2005-08-14T01:35:53.101Z\",\"age\":15},\"phone\":\"(545)-836-9120\",\"cell\":\"(381)-479-0070\",\"id\":{\"name\":\"SSN\",\"value\":\"142-64-5424\"},\"picture\":{\"large\":\"https://randomuser.me/api/portraits/men/83.jpg\",\"medium\":\"https://randomuser.me/api/portraits/med/men/83.jpg\",\"thumbnail\":\"https://randomuser.me/api/portraits/thumb/men/83.jpg\"},\"nat\":\"US\"},{\"gender\":\"male\",\"name\":{\"title\":\"Mr\",\"first\":\"Wayne\",\"last\":\"Hunter\"},\"location\":{\"street\":{\"number\":7126,\"name\":\"Mockingbird Hill\"},\"city\":\"Fargo\",\"state\":\"Illinois\",\"country\":\"United States\",\"postcode\":59929,\"coordinates\":{\"latitude\":\"31.1276\",\"longitude\":\"157.5830\"},\"timezone\":{\"offset\":\"-7:00\",\"description\":\"Mountain Time (US & Canada)\"}},\"email\":\"wayne.hunter@example.com\",\"login\":{\"uuid\":\"cf13951b-bee3-43dc-b692-eab700e4080f\",\"username\":\"angryduck701\",\"password\":\"puppydog\",\"salt\":\"Lm9c0Pbn\",\"md5\":\"c81b3939585b4801d799765103d2c811\",\"sha1\":\"e6549b62c29de4a7ea23135afbdb07cea117ec29\",\"sha256\":\"16aa8ac9550c3949c46087f01e8887f03b9cbcb1eb0d46c5aaa36133760b1f4e\"},\"dob\":{\"date\":\"1968-04-22T07:25:08.405Z\",\"age\":52},\"registered\":{\"date\":\"2008-11-04T11:10:05.680Z\",\"age\":12},\"phone\":\"(548)-240-1286\",\"cell\":\"(201)-279-5348\",\"id\":{\"name\":\"SSN\",\"value\":\"107-58-2930\"},\"picture\":{\"large\":\"https://randomuser.me/api/portraits/men/73.jpg\",\"medium\":\"https://randomuser.me/api/portraits/med/men/73.jpg\",\"thumbnail\":\"https://randomuser.me/api/portraits/thumb/men/73.jpg\"},\"nat\":\"US\"}],\"info\":{\"seed\":\"828623ff252b243a\",\"results\":10,\"page\":1,\"version\":\"1.3\"}}'"
      ]
     },
     "execution_count": 4,
     "metadata": {},
     "output_type": "execute_result"
    }
   ],
   "source": [
    "response.text"
   ]
  },
  {
   "cell_type": "code",
   "execution_count": 4,
   "metadata": {},
   "outputs": [],
   "source": [
    "data = json.loads(response.text)"
   ]
  },
  {
   "cell_type": "code",
   "execution_count": 7,
   "metadata": {},
   "outputs": [
    {
     "data": {
      "text/plain": [
       "dict"
      ]
     },
     "execution_count": 7,
     "metadata": {},
     "output_type": "execute_result"
    }
   ],
   "source": [
    "type(data)"
   ]
  },
  {
   "cell_type": "code",
   "execution_count": 11,
   "metadata": {},
   "outputs": [
    {
     "name": "stdout",
     "output_type": "stream",
     "text": [
      "{'info': {'page': 1,\n",
      "          'results': 10,\n",
      "          'seed': '24a02a5946d59525',\n",
      "          'version': '1.3'},\n",
      " 'results': [{'cell': '(293)-425-4410',\n",
      "              'dob': {'age': 42, 'date': '1978-02-07T11:11:30.221Z'},\n",
      "              'email': 'tracy.mendoza@example.com',\n",
      "              'gender': 'male',\n",
      "              'id': {'name': 'SSN', 'value': '690-52-3100'},\n",
      "              'location': {'city': 'Charlotte',\n",
      "                           'coordinates': {'latitude': '19.5859',\n",
      "                                           'longitude': '156.5285'},\n",
      "                           'country': 'United States',\n",
      "                           'postcode': 88156,\n",
      "                           'state': 'Connecticut',\n",
      "                           'street': {'name': 'Samaritan Dr', 'number': 41},\n",
      "                           'timezone': {'description': 'Ekaterinburg, '\n",
      "                                                       'Islamabad, Karachi, '\n",
      "                                                       'Tashkent',\n",
      "                                        'offset': '+5:00'}},\n",
      "              'login': {'md5': '8080d8d4df438ead008f8c830da1f051',\n",
      "                        'password': 'william',\n",
      "                        'salt': 'cZZJKcRq',\n",
      "                        'sha1': '39a07f25471a2a0cf354f1c82e82de13cad97895',\n",
      "                        'sha256': 'e160151f4ffd3b346fe6b1162b5d74f707327fda357f1a5235978c572cfb90be',\n",
      "                        'username': 'beautifullion760',\n",
      "                        'uuid': '9b0b22d0-dd99-40b4-b08b-9a1513ac1bf6'},\n",
      "              'name': {'first': 'Tracy', 'last': 'Mendoza', 'title': 'Mr'},\n",
      "              'nat': 'US',\n",
      "              'phone': '(312)-680-7941',\n",
      "              'picture': {'large': 'https://randomuser.me/api/portraits/men/6.jpg',\n",
      "                          'medium': 'https://randomuser.me/api/portraits/med/men/6.jpg',\n",
      "                          'thumbnail': 'https://randomuser.me/api/portraits/thumb/men/6.jpg'},\n",
      "              'registered': {'age': 6, 'date': '2014-01-20T10:28:43.874Z'}},\n",
      "             {'cell': '(267)-411-7341',\n",
      "              'dob': {'age': 41, 'date': '1979-03-03T04:40:08.348Z'},\n",
      "              'email': 'kurt.porter@example.com',\n",
      "              'gender': 'male',\n",
      "              'id': {'name': 'SSN', 'value': '408-35-9948'},\n",
      "              'location': {'city': 'Fayetteville',\n",
      "                           'coordinates': {'latitude': '-71.0742',\n",
      "                                           'longitude': '-78.9021'},\n",
      "                           'country': 'United States',\n",
      "                           'postcode': 97266,\n",
      "                           'state': 'New Mexico',\n",
      "                           'street': {'name': 'College St', 'number': 7646},\n",
      "                           'timezone': {'description': 'Alaska',\n",
      "                                        'offset': '-9:00'}},\n",
      "              'login': {'md5': '4629f568c9a5532e6698b430acdd2d85',\n",
      "                        'password': 'benson',\n",
      "                        'salt': 'DpjFMVRo',\n",
      "                        'sha1': '3764bd070e67601a21ed85f1318232061b181f16',\n",
      "                        'sha256': '9adad2f71f0cc3866d3063e630193d19376a50f323009ea650ee31b285a3f8ca',\n",
      "                        'username': 'reddog897',\n",
      "                        'uuid': 'e5648772-0ae0-4845-a105-9b2c149f7428'},\n",
      "              'name': {'first': 'Kurt', 'last': 'Porter', 'title': 'Mr'},\n",
      "              'nat': 'US',\n",
      "              'phone': '(075)-209-3786',\n",
      "              'picture': {'large': 'https://randomuser.me/api/portraits/men/62.jpg',\n",
      "                          'medium': 'https://randomuser.me/api/portraits/med/men/62.jpg',\n",
      "                          'thumbnail': 'https://randomuser.me/api/portraits/thumb/men/62.jpg'},\n",
      "              'registered': {'age': 9, 'date': '2012-01-01T04:19:47.326Z'}},\n",
      "             {'cell': '(161)-527-3979',\n",
      "              'dob': {'age': 56, 'date': '1964-05-18T08:56:29.550Z'},\n",
      "              'email': 'alberto.bryant@example.com',\n",
      "              'gender': 'male',\n",
      "              'id': {'name': 'SSN', 'value': '109-98-2269'},\n",
      "              'location': {'city': 'Mcallen',\n",
      "                           'coordinates': {'latitude': '21.3022',\n",
      "                                           'longitude': '96.8498'},\n",
      "                           'country': 'United States',\n",
      "                           'postcode': 56406,\n",
      "                           'state': 'Utah',\n",
      "                           'street': {'name': 'Edwards Rd', 'number': 7097},\n",
      "                           'timezone': {'description': 'Kaliningrad, South '\n",
      "                                                       'Africa',\n",
      "                                        'offset': '+2:00'}},\n",
      "              'login': {'md5': '0693102eaf0c62419b4cfdf828e802ce',\n",
      "                        'password': 'master',\n",
      "                        'salt': 'n6s09fJD',\n",
      "                        'sha1': 'a3cbb8020ac8f9bae27e10673ed1f26f66bb413a',\n",
      "                        'sha256': '22c87df9b5723bd82eb51b5b9dd5ca2fcf4747b2fab7809f51ed2a3b1aed67ee',\n",
      "                        'username': 'greendog805',\n",
      "                        'uuid': 'b32a2ea8-90b8-440e-9bda-49b712b57170'},\n",
      "              'name': {'first': 'Alberto', 'last': 'Bryant', 'title': 'Mr'},\n",
      "              'nat': 'US',\n",
      "              'phone': '(293)-351-9155',\n",
      "              'picture': {'large': 'https://randomuser.me/api/portraits/men/92.jpg',\n",
      "                          'medium': 'https://randomuser.me/api/portraits/med/men/92.jpg',\n",
      "                          'thumbnail': 'https://randomuser.me/api/portraits/thumb/men/92.jpg'},\n",
      "              'registered': {'age': 5, 'date': '2015-11-28T16:48:58.596Z'}},\n",
      "             {'cell': '(278)-808-5537',\n",
      "              'dob': {'age': 52, 'date': '1968-05-07T09:09:52.911Z'},\n",
      "              'email': 'pedro.willis@example.com',\n",
      "              'gender': 'male',\n",
      "              'id': {'name': 'SSN', 'value': '485-33-7575'},\n",
      "              'location': {'city': 'Desoto',\n",
      "                           'coordinates': {'latitude': '64.6603',\n",
      "                                           'longitude': '-63.1977'},\n",
      "                           'country': 'United States',\n",
      "                           'postcode': 62829,\n",
      "                           'state': 'Virginia',\n",
      "                           'street': {'name': 'Country Club Rd',\n",
      "                                      'number': 6307},\n",
      "                           'timezone': {'description': 'Kabul',\n",
      "                                        'offset': '+4:30'}},\n",
      "              'login': {'md5': 'fe0c4f7d21639786516ba130a80412da',\n",
      "                        'password': 'sigmachi',\n",
      "                        'salt': 'PxCN8ecS',\n",
      "                        'sha1': 'd26c18d66e3e16aa5fc709adcf87960053cc14e2',\n",
      "                        'sha256': 'd1adb85b71a21e7bf399be5acc17964b2bd0edcb54c46f052e3206014588fd18',\n",
      "                        'username': 'smallswan902',\n",
      "                        'uuid': '9ef7d901-8b38-4d83-a4ff-197962c5ce3f'},\n",
      "              'name': {'first': 'Pedro', 'last': 'Willis', 'title': 'Mr'},\n",
      "              'nat': 'US',\n",
      "              'phone': '(414)-721-0365',\n",
      "              'picture': {'large': 'https://randomuser.me/api/portraits/men/70.jpg',\n",
      "                          'medium': 'https://randomuser.me/api/portraits/med/men/70.jpg',\n",
      "                          'thumbnail': 'https://randomuser.me/api/portraits/thumb/men/70.jpg'},\n",
      "              'registered': {'age': 6, 'date': '2014-03-02T09:47:45.664Z'}},\n",
      "             {'cell': '(808)-069-5983',\n",
      "              'dob': {'age': 31, 'date': '1989-05-04T23:30:38.437Z'},\n",
      "              'email': 'timmothy.meyer@example.com',\n",
      "              'gender': 'male',\n",
      "              'id': {'name': 'SSN', 'value': '151-90-0263'},\n",
      "              'location': {'city': 'Glendale',\n",
      "                           'coordinates': {'latitude': '-22.6435',\n",
      "                                           'longitude': '-45.7788'},\n",
      "                           'country': 'United States',\n",
      "                           'postcode': 17327,\n",
      "                           'state': 'Kansas',\n",
      "                           'street': {'name': 'N Stelling Rd', 'number': 301},\n",
      "                           'timezone': {'description': 'Azores, Cape Verde '\n",
      "                                                       'Islands',\n",
      "                                        'offset': '-1:00'}},\n",
      "              'login': {'md5': '15364e7088505ce69dfd9ba5fd044295',\n",
      "                        'password': 'shauna',\n",
      "                        'salt': '9Ddfi3Mj',\n",
      "                        'sha1': '9a7790f404b697d618eb47ccc9d47e9ebbffe8a6',\n",
      "                        'sha256': '7a4d4932c9072e29ff7b131dd5646800b6305427850cec19a7265f625fbf6dfe',\n",
      "                        'username': 'angryzebra638',\n",
      "                        'uuid': '92f1881a-183b-45eb-b30e-fd34ae1cfaa1'},\n",
      "              'name': {'first': 'Timmothy', 'last': 'Meyer', 'title': 'Mr'},\n",
      "              'nat': 'US',\n",
      "              'phone': '(713)-766-3895',\n",
      "              'picture': {'large': 'https://randomuser.me/api/portraits/men/15.jpg',\n",
      "                          'medium': 'https://randomuser.me/api/portraits/med/men/15.jpg',\n",
      "                          'thumbnail': 'https://randomuser.me/api/portraits/thumb/men/15.jpg'},\n",
      "              'registered': {'age': 13, 'date': '2007-10-20T19:39:48.878Z'}},\n",
      "             {'cell': '(832)-399-5869',\n",
      "              'dob': {'age': 44, 'date': '1976-12-15T07:30:06.065Z'},\n",
      "              'email': 'eli.shelton@example.com',\n",
      "              'gender': 'male',\n",
      "              'id': {'name': 'SSN', 'value': '111-35-6006'},\n",
      "              'location': {'city': 'Hamsburg',\n",
      "                           'coordinates': {'latitude': '-46.9999',\n",
      "                                           'longitude': '145.7015'},\n",
      "                           'country': 'United States',\n",
      "                           'postcode': 38971,\n",
      "                           'state': 'New Jersey',\n",
      "                           'street': {'name': 'Lone Wolf Trail',\n",
      "                                      'number': 4847},\n",
      "                           'timezone': {'description': 'Central Time (US & '\n",
      "                                                       'Canada), Mexico City',\n",
      "                                        'offset': '-6:00'}},\n",
      "              'login': {'md5': '5a21d53de97b208988fa39d581e0fe76',\n",
      "                        'password': 'score',\n",
      "                        'salt': 'sfwHD4u4',\n",
      "                        'sha1': '00e015f301d9a1894675244f6c25bd1c4bf156ec',\n",
      "                        'sha256': '91fb34ddb3e0b354dde426738c7197a1981588949f3fa3c11362dd5a26a1403e',\n",
      "                        'username': 'orangesnake899',\n",
      "                        'uuid': '9a67af10-bccd-4e7a-b617-b3106a84bdd0'},\n",
      "              'name': {'first': 'Eli', 'last': 'Shelton', 'title': 'Mr'},\n",
      "              'nat': 'US',\n",
      "              'phone': '(522)-126-7587',\n",
      "              'picture': {'large': 'https://randomuser.me/api/portraits/men/48.jpg',\n",
      "                          'medium': 'https://randomuser.me/api/portraits/med/men/48.jpg',\n",
      "                          'thumbnail': 'https://randomuser.me/api/portraits/thumb/men/48.jpg'},\n",
      "              'registered': {'age': 5, 'date': '2015-07-05T06:40:02.281Z'}},\n",
      "             {'cell': '(561)-357-3551',\n",
      "              'dob': {'age': 23, 'date': '1997-12-24T18:41:01.792Z'},\n",
      "              'email': 'gabe.cook@example.com',\n",
      "              'gender': 'male',\n",
      "              'id': {'name': 'SSN', 'value': '671-19-3460'},\n",
      "              'location': {'city': 'Glendale',\n",
      "                           'coordinates': {'latitude': '61.4655',\n",
      "                                           'longitude': '13.6342'},\n",
      "                           'country': 'United States',\n",
      "                           'postcode': 11708,\n",
      "                           'state': 'Michigan',\n",
      "                           'street': {'name': 'Crockett St', 'number': 2896},\n",
      "                           'timezone': {'description': 'Atlantic Time '\n",
      "                                                       '(Canada), Caracas, La '\n",
      "                                                       'Paz',\n",
      "                                        'offset': '-4:00'}},\n",
      "              'login': {'md5': '08e695ecbb65f11868e01ed61deea1a3',\n",
      "                        'password': 'cubswin',\n",
      "                        'salt': '0fn62RTi',\n",
      "                        'sha1': '86f959c86bfc75d88d176ba0343b811eb75a7dcf',\n",
      "                        'sha256': '07d0f6d2aae0073de77a5cba03799a6613fc54d5f72e3d9615a7705d958dbd9d',\n",
      "                        'username': 'greenduck252',\n",
      "                        'uuid': '95c7d844-c9c8-43e9-a085-51f7012e92c0'},\n",
      "              'name': {'first': 'Gabe', 'last': 'Cook', 'title': 'Mr'},\n",
      "              'nat': 'US',\n",
      "              'phone': '(386)-136-7219',\n",
      "              'picture': {'large': 'https://randomuser.me/api/portraits/men/56.jpg',\n",
      "                          'medium': 'https://randomuser.me/api/portraits/med/men/56.jpg',\n",
      "                          'thumbnail': 'https://randomuser.me/api/portraits/thumb/men/56.jpg'},\n",
      "              'registered': {'age': 13, 'date': '2007-02-14T16:20:59.271Z'}},\n",
      "             {'cell': '(392)-314-3861',\n",
      "              'dob': {'age': 41, 'date': '1979-05-03T15:28:48.586Z'},\n",
      "              'email': 'reginald.lopez@example.com',\n",
      "              'gender': 'male',\n",
      "              'id': {'name': 'SSN', 'value': '319-39-0306'},\n",
      "              'location': {'city': 'Tempe',\n",
      "                           'coordinates': {'latitude': '86.0939',\n",
      "                                           'longitude': '35.5538'},\n",
      "                           'country': 'United States',\n",
      "                           'postcode': 25034,\n",
      "                           'state': 'South Carolina',\n",
      "                           'street': {'name': 'Valwood Pkwy', 'number': 8220},\n",
      "                           'timezone': {'description': 'Pacific Time (US & '\n",
      "                                                       'Canada)',\n",
      "                                        'offset': '-8:00'}},\n",
      "              'login': {'md5': 'bf27c41990641dbe5c039cf3dfdbbb65',\n",
      "                        'password': 'reserve',\n",
      "                        'salt': 'WzLZX4vh',\n",
      "                        'sha1': 'dc3d65b0e5253900481f0ae6f1f9e42861bfa849',\n",
      "                        'sha256': 'ff2bbeddbcbc1345fa8102a98f1f0c58eb6a1abc3fe293565030794fb7b2f409',\n",
      "                        'username': 'tinykoala736',\n",
      "                        'uuid': 'd52c15ba-94ee-48d1-a0ae-8ed4282e104a'},\n",
      "              'name': {'first': 'Reginald', 'last': 'Lopez', 'title': 'Mr'},\n",
      "              'nat': 'US',\n",
      "              'phone': '(596)-089-3715',\n",
      "              'picture': {'large': 'https://randomuser.me/api/portraits/men/49.jpg',\n",
      "                          'medium': 'https://randomuser.me/api/portraits/med/men/49.jpg',\n",
      "                          'thumbnail': 'https://randomuser.me/api/portraits/thumb/men/49.jpg'},\n",
      "              'registered': {'age': 5, 'date': '2015-06-15T16:54:38.612Z'}},\n",
      "             {'cell': '(943)-474-0724',\n",
      "              'dob': {'age': 48, 'date': '1972-06-17T19:11:05.053Z'},\n",
      "              'email': 'gene.simmons@example.com',\n",
      "              'gender': 'male',\n",
      "              'id': {'name': 'SSN', 'value': '344-49-0533'},\n",
      "              'location': {'city': 'Waxahachie',\n",
      "                           'coordinates': {'latitude': '-28.9269',\n",
      "                                           'longitude': '59.8813'},\n",
      "                           'country': 'United States',\n",
      "                           'postcode': 81709,\n",
      "                           'state': 'Arizona',\n",
      "                           'street': {'name': 'Adams St', 'number': 869},\n",
      "                           'timezone': {'description': 'Newfoundland',\n",
      "                                        'offset': '-3:30'}},\n",
      "              'login': {'md5': '58998d3c8f5c3a6490bf1615ba750fb5',\n",
      "                        'password': 'snow',\n",
      "                        'salt': '8QNds2LJ',\n",
      "                        'sha1': '18bf13f4d2f9aab29e9d9cbd15700a7d2670d262',\n",
      "                        'sha256': 'a1f90e96b38e40eaed3bc169b47e83e98c6c365595a0347eb83211ed05a0396d',\n",
      "                        'username': 'purpleelephant291',\n",
      "                        'uuid': '4d377695-4158-47e5-ac8d-e9c784324ac9'},\n",
      "              'name': {'first': 'Gene', 'last': 'Simmons', 'title': 'Mr'},\n",
      "              'nat': 'US',\n",
      "              'phone': '(730)-468-8090',\n",
      "              'picture': {'large': 'https://randomuser.me/api/portraits/men/17.jpg',\n",
      "                          'medium': 'https://randomuser.me/api/portraits/med/men/17.jpg',\n",
      "                          'thumbnail': 'https://randomuser.me/api/portraits/thumb/men/17.jpg'},\n",
      "              'registered': {'age': 17, 'date': '2003-08-02T11:11:01.696Z'}},\n",
      "             {'cell': '(044)-999-8938',\n",
      "              'dob': {'age': 66, 'date': '1954-05-21T18:03:32.400Z'},\n",
      "              'email': 'chad.white@example.com',\n",
      "              'gender': 'male',\n",
      "              'id': {'name': 'SSN', 'value': '464-21-7403'},\n",
      "              'location': {'city': 'Altoona',\n",
      "                           'coordinates': {'latitude': '71.8118',\n",
      "                                           'longitude': '88.4955'},\n",
      "                           'country': 'United States',\n",
      "                           'postcode': 87635,\n",
      "                           'state': 'Idaho',\n",
      "                           'street': {'name': 'E North St', 'number': 1535},\n",
      "                           'timezone': {'description': 'Eastern Australia, '\n",
      "                                                       'Guam, Vladivostok',\n",
      "                                        'offset': '+10:00'}},\n",
      "              'login': {'md5': 'dae6de802bbbcb1ec881d8cf38175528',\n",
      "                        'password': '7734',\n",
      "                        'salt': 'WguzLx1i',\n",
      "                        'sha1': 'df3d607c4681a7c104e64bd04ca73801ba7f2f73',\n",
      "                        'sha256': '151205c503406abae381909df138d72ef35631239bda66f7dd713c55b768e0f6',\n",
      "                        'username': 'lazybear173',\n",
      "                        'uuid': 'd535ef8d-ae22-4249-910a-c52442560f13'},\n",
      "              'name': {'first': 'Chad', 'last': 'White', 'title': 'Mr'},\n",
      "              'nat': 'US',\n",
      "              'phone': '(014)-087-3528',\n",
      "              'picture': {'large': 'https://randomuser.me/api/portraits/men/97.jpg',\n",
      "                          'medium': 'https://randomuser.me/api/portraits/med/men/97.jpg',\n",
      "                          'thumbnail': 'https://randomuser.me/api/portraits/thumb/men/97.jpg'},\n",
      "              'registered': {'age': 13, 'date': '2007-03-30T05:39:48.214Z'}}]}\n"
     ]
    }
   ],
   "source": [
    "# pprint prints it prettier\n",
    "from pprint import pprint\n",
    "pprint(data)"
   ]
  },
  {
   "cell_type": "code",
   "execution_count": 5,
   "metadata": {},
   "outputs": [
    {
     "name": "stdout",
     "output_type": "stream",
     "text": [
      "Tracy\n",
      "Kurt\n",
      "Alberto\n",
      "Pedro\n",
      "Timmothy\n",
      "Eli\n",
      "Gabe\n",
      "Reginald\n",
      "Gene\n",
      "Chad\n"
     ]
    }
   ],
   "source": [
    "# loop through the dict and get the first names\n",
    "for i in data[\"results\"]:\n",
    "    print (i[\"name\"][\"first\"])"
   ]
  },
  {
   "cell_type": "code",
   "execution_count": 6,
   "metadata": {},
   "outputs": [
    {
     "name": "stdout",
     "output_type": "stream",
     "text": [
      "200\n"
     ]
    }
   ],
   "source": [
    "# 22\n",
    "# Astronauts in space\n",
    "\n",
    "response_2 = requests.get(\"http://api.open-notify.org/astros.json\")\n",
    "print(response_2.status_code)"
   ]
  },
  {
   "cell_type": "code",
   "execution_count": 7,
   "metadata": {},
   "outputs": [],
   "source": [
    "data_2 = json.loads(response_2.text)"
   ]
  },
  {
   "cell_type": "code",
   "execution_count": 12,
   "metadata": {},
   "outputs": [
    {
     "name": "stdout",
     "output_type": "stream",
     "text": [
      "{'message': 'success',\n",
      " 'number': 3,\n",
      " 'people': [{'craft': 'ISS', 'name': 'Chris Cassidy'},\n",
      "            {'craft': 'ISS', 'name': 'Anatoly Ivanishin'},\n",
      "            {'craft': 'ISS', 'name': 'Ivan Vagner'}]}\n"
     ]
    }
   ],
   "source": [
    "pprint(data_2)"
   ]
  },
  {
   "cell_type": "code",
   "execution_count": 9,
   "metadata": {},
   "outputs": [
    {
     "name": "stdout",
     "output_type": "stream",
     "text": [
      "3\n"
     ]
    }
   ],
   "source": [
    "# 23 People in Space\n",
    "\n",
    "print(data_2['number'])"
   ]
  },
  {
   "cell_type": "code",
   "execution_count": 10,
   "metadata": {},
   "outputs": [
    {
     "name": "stdout",
     "output_type": "stream",
     "text": [
      "Chris Cassidy\n",
      "Anatoly Ivanishin\n",
      "Ivan Vagner\n"
     ]
    }
   ],
   "source": [
    "# 24 their names\n",
    "\n",
    "for i in data_2['people']:\n",
    "    print(i['name'])"
   ]
  },
  {
   "cell_type": "code",
   "execution_count": 3,
   "metadata": {},
   "outputs": [
    {
     "name": "stdout",
     "output_type": "stream",
     "text": [
      " * Serving Flask app \"__main__\" (lazy loading)\n",
      " * Environment: production\n",
      "   WARNING: This is a development server. Do not use it in a production deployment.\n",
      "   Use a production WSGI server instead.\n",
      " * Debug mode: on\n"
     ]
    },
    {
     "name": "stderr",
     "output_type": "stream",
     "text": [
      " * Restarting with windowsapi reloader\n"
     ]
    },
    {
     "ename": "SystemExit",
     "evalue": "1",
     "output_type": "error",
     "traceback": [
      "An exception has occurred, use %tb to see the full traceback.\n",
      "\u001b[1;31mSystemExit\u001b[0m\u001b[1;31m:\u001b[0m 1\n"
     ]
    }
   ],
   "source": [
    "# 25 Flask app\n",
    "\n",
    "#import redis\n",
    "from flask import Flask, render_template\n",
    "\n",
    "app = Flask(__name__)\n",
    "#cache = redis.Redis(host='redis', port=6379)\n",
    "\n",
    "def get_names():\n",
    "    response_2 = requests.get(\"http://api.open-notify.org/astros.json\")\n",
    "    data_2 = json.loads(response_2.text)\n",
    "    for i in data_2['people']:\n",
    "        print(i['name'])\n",
    "\n",
    "@app.route('/names', methods=['GET'])\n",
    "def Astronauts():\n",
    "    mytitle = \"These people are in space right now: \"\n",
    "    names = get_names()\n",
    "    return render_template('Astronauts.html', title=mytitle, content = names)\n",
    "\n",
    "if __name__ == \"__main__\":\n",
    "    app.run(host=\"0.0.0.0\", port=80, debug=True)"
   ]
  }
 ],
 "metadata": {
  "kernelspec": {
   "display_name": "Python 3",
   "language": "python",
   "name": "python3"
  },
  "language_info": {
   "codemirror_mode": {
    "name": "ipython",
    "version": 3
   },
   "file_extension": ".py",
   "mimetype": "text/x-python",
   "name": "python",
   "nbconvert_exporter": "python",
   "pygments_lexer": "ipython3",
   "version": "3.7.6"
  }
 },
 "nbformat": 4,
 "nbformat_minor": 4
}
