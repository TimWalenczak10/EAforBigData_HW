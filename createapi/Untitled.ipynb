{
 "cells": [
  {
   "cell_type": "code",
   "execution_count": 1,
   "metadata": {},
   "outputs": [
    {
     "name": "stdout",
     "output_type": "stream",
     "text": [
      "Collecting fastapi\n",
      "  Downloading https://files.pythonhosted.org/packages/05/24/29cf80ab90b921fc245118762afc67e561b591a6b8b9523f650a2ddf59e5/fastapi-0.55.1-py3-none-any.whl (48kB)\n",
      "Collecting starlette==0.13.2 (from fastapi)\n",
      "  Downloading https://files.pythonhosted.org/packages/37/2e/f56602beda25b376bbaaeadb626cf212b673457075ffed0dd12969ad6014/starlette-0.13.2-py3-none-any.whl (59kB)\n",
      "Collecting pydantic<2.0.0,>=0.32.2 (from fastapi)\n",
      "  Downloading https://files.pythonhosted.org/packages/8c/54/982f84b9ccec93f1e0defda2d7691d860b0deafee3ec25c17885a9004fcc/pydantic-1.5.1-cp37-cp37m-win_amd64.whl (1.7MB)\n",
      "Installing collected packages: starlette, pydantic, fastapi\n",
      "Successfully installed fastapi-0.55.1 pydantic-1.5.1 starlette-0.13.2\n",
      "Note: you may need to restart the kernel to use updated packages.\n"
     ]
    }
   ],
   "source": [
    "pip install fastapi"
   ]
  },
  {
   "cell_type": "code",
   "execution_count": null,
   "metadata": {},
   "outputs": [],
   "source": []
  }
 ],
 "metadata": {
  "kernelspec": {
   "display_name": "tws",
   "language": "python",
   "name": "tws"
  },
  "language_info": {
   "codemirror_mode": {
    "name": "ipython",
    "version": 3
   },
   "file_extension": ".py",
   "mimetype": "text/x-python",
   "name": "python",
   "nbconvert_exporter": "python",
   "pygments_lexer": "ipython3",
   "version": "3.7.7"
  }
 },
 "nbformat": 4,
 "nbformat_minor": 4
}
