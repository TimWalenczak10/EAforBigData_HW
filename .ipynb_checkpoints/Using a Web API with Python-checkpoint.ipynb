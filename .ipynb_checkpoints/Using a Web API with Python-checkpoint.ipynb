{
 "cells": [
  {
   "cell_type": "code",
   "execution_count": 1,
   "metadata": {},
   "outputs": [],
   "source": [
    "import requests\n",
    "import json"
   ]
  },
  {
   "cell_type": "code",
   "execution_count": 2,
   "metadata": {},
   "outputs": [
    {
     "name": "stdout",
     "output_type": "stream",
     "text": [
      "200\n"
     ]
    }
   ],
   "source": [
    "response = requests.get(\"https://api.randomuser.me/\")\n",
    "print(response.status_code)"
   ]
  },
  {
   "cell_type": "code",
   "execution_count": 3,
   "metadata": {},
   "outputs": [],
   "source": [
    "parameters = {\"gender\": \"male\", \"nat\": \"us\", \"results\":10}\n",
    "response = requests.get(\"https://api.randomuser.me/\", params=parameters)"
   ]
  },
  {
   "cell_type": "code",
   "execution_count": 4,
   "metadata": {},
   "outputs": [
    {
     "data": {
      "text/plain": [
       "'{\"results\":[{\"gender\":\"male\",\"name\":{\"title\":\"Mr\",\"first\":\"Clarence\",\"last\":\"Bryant\"},\"location\":{\"street\":{\"number\":488,\"name\":\"Taylor St\"},\"city\":\"Boulder\",\"state\":\"Ohio\",\"country\":\"United States\",\"postcode\":14026,\"coordinates\":{\"latitude\":\"-67.7936\",\"longitude\":\"-117.4332\"},\"timezone\":{\"offset\":\"-9:00\",\"description\":\"Alaska\"}},\"email\":\"clarence.bryant@example.com\",\"login\":{\"uuid\":\"120d1b01-f0c1-47ac-8f68-bb447d5ad678\",\"username\":\"yellowgorilla574\",\"password\":\"russia\",\"salt\":\"e9bUgBQX\",\"md5\":\"5857678ad118a533565e33b8a13e4f7d\",\"sha1\":\"91c6903588d566dc1fd78575d90697c79533595f\",\"sha256\":\"351c0a4b5e744f30c83bfd2aa14effee55d757f6d6a3716b8c02ebbfc42e0c2c\"},\"dob\":{\"date\":\"1985-03-09T08:34:23.977Z\",\"age\":35},\"registered\":{\"date\":\"2015-04-27T22:57:37.738Z\",\"age\":5},\"phone\":\"(248)-368-4452\",\"cell\":\"(414)-399-2226\",\"id\":{\"name\":\"SSN\",\"value\":\"534-84-4458\"},\"picture\":{\"large\":\"https://randomuser.me/api/portraits/men/30.jpg\",\"medium\":\"https://randomuser.me/api/portraits/med/men/30.jpg\",\"thumbnail\":\"https://randomuser.me/api/portraits/thumb/men/30.jpg\"},\"nat\":\"US\"},{\"gender\":\"male\",\"name\":{\"title\":\"Mr\",\"first\":\"Johnni\",\"last\":\"Bell\"},\"location\":{\"street\":{\"number\":5155,\"name\":\"Cackson St\"},\"city\":\"Tucson\",\"state\":\"Idaho\",\"country\":\"United States\",\"postcode\":60708,\"coordinates\":{\"latitude\":\"-47.1911\",\"longitude\":\"-14.0607\"},\"timezone\":{\"offset\":\"-1:00\",\"description\":\"Azores, Cape Verde Islands\"}},\"email\":\"johnni.bell@example.com\",\"login\":{\"uuid\":\"174ee443-a857-4d77-b9e6-80681e392061\",\"username\":\"purplefrog800\",\"password\":\"picasso\",\"salt\":\"jaygeI2h\",\"md5\":\"719e05e1eb2763251950b4aa2628f24f\",\"sha1\":\"cd00b0e11ca2a10212770947b6bec3ccdea55468\",\"sha256\":\"576b07143b0df352222c9ba546e56a27cc5072c1c563755b1b1f65b1430b20f4\"},\"dob\":{\"date\":\"1973-08-02T14:34:47.611Z\",\"age\":47},\"registered\":{\"date\":\"2017-10-08T20:05:17.866Z\",\"age\":3},\"phone\":\"(336)-445-2259\",\"cell\":\"(698)-842-8042\",\"id\":{\"name\":\"SSN\",\"value\":\"434-26-9165\"},\"picture\":{\"large\":\"https://randomuser.me/api/portraits/men/67.jpg\",\"medium\":\"https://randomuser.me/api/portraits/med/men/67.jpg\",\"thumbnail\":\"https://randomuser.me/api/portraits/thumb/men/67.jpg\"},\"nat\":\"US\"},{\"gender\":\"male\",\"name\":{\"title\":\"Mr\",\"first\":\"Alberto\",\"last\":\"Edwards\"},\"location\":{\"street\":{\"number\":1461,\"name\":\"Bruce St\"},\"city\":\"Pasadena\",\"state\":\"Vermont\",\"country\":\"United States\",\"postcode\":21893,\"coordinates\":{\"latitude\":\"-76.6508\",\"longitude\":\"20.7214\"},\"timezone\":{\"offset\":\"-8:00\",\"description\":\"Pacific Time (US & Canada)\"}},\"email\":\"alberto.edwards@example.com\",\"login\":{\"uuid\":\"d2b95c8e-a44a-4679-b48e-afcd73c06466\",\"username\":\"organicswan476\",\"password\":\"bigfish\",\"salt\":\"A0eXMUOQ\",\"md5\":\"9c42245b84ab6e3b5a0273adecf62283\",\"sha1\":\"7583a0802e321ea6940d500dc25f2412892c4b19\",\"sha256\":\"fe0cbe50e78203501e45473bf81d6f3edb926440caa529fb2e9fba8c7001ce7e\"},\"dob\":{\"date\":\"1988-07-31T20:16:14.831Z\",\"age\":32},\"registered\":{\"date\":\"2013-07-31T09:28:52.213Z\",\"age\":7},\"phone\":\"(846)-855-1346\",\"cell\":\"(088)-785-1608\",\"id\":{\"name\":\"SSN\",\"value\":\"623-74-0673\"},\"picture\":{\"large\":\"https://randomuser.me/api/portraits/men/81.jpg\",\"medium\":\"https://randomuser.me/api/portraits/med/men/81.jpg\",\"thumbnail\":\"https://randomuser.me/api/portraits/thumb/men/81.jpg\"},\"nat\":\"US\"},{\"gender\":\"male\",\"name\":{\"title\":\"Mr\",\"first\":\"Armando\",\"last\":\"Chavez\"},\"location\":{\"street\":{\"number\":4429,\"name\":\"Bruce St\"},\"city\":\"Anna\",\"state\":\"Kentucky\",\"country\":\"United States\",\"postcode\":21114,\"coordinates\":{\"latitude\":\"-16.8765\",\"longitude\":\"-85.6696\"},\"timezone\":{\"offset\":\"+9:00\",\"description\":\"Tokyo, Seoul, Osaka, Sapporo, Yakutsk\"}},\"email\":\"armando.chavez@example.com\",\"login\":{\"uuid\":\"ae2a8e03-221a-4e26-b1c9-baa29d6cacd7\",\"username\":\"smallwolf474\",\"password\":\"studly\",\"salt\":\"1sLfbSb0\",\"md5\":\"a76072640a4ee60d9ff823f67f9b252e\",\"sha1\":\"bec3e930f91e8e63ef838002f6fd17c143f1f3cc\",\"sha256\":\"747023e1ddfce68a9e62ea89b071c3508fdd6a4a8761786b32eb74e65682bac4\"},\"dob\":{\"date\":\"1992-01-12T04:24:48.232Z\",\"age\":28},\"registered\":{\"date\":\"2013-03-18T22:41:58.424Z\",\"age\":7},\"phone\":\"(365)-222-7421\",\"cell\":\"(314)-532-1190\",\"id\":{\"name\":\"SSN\",\"value\":\"214-52-2210\"},\"picture\":{\"large\":\"https://randomuser.me/api/portraits/men/17.jpg\",\"medium\":\"https://randomuser.me/api/portraits/med/men/17.jpg\",\"thumbnail\":\"https://randomuser.me/api/portraits/thumb/men/17.jpg\"},\"nat\":\"US\"},{\"gender\":\"male\",\"name\":{\"title\":\"Mr\",\"first\":\"Chester\",\"last\":\"James\"},\"location\":{\"street\":{\"number\":5654,\"name\":\"Harrison Ct\"},\"city\":\"Jackson\",\"state\":\"Kentucky\",\"country\":\"United States\",\"postcode\":56266,\"coordinates\":{\"latitude\":\"32.4556\",\"longitude\":\"143.6194\"},\"timezone\":{\"offset\":\"+11:00\",\"description\":\"Magadan, Solomon Islands, New Caledonia\"}},\"email\":\"chester.james@example.com\",\"login\":{\"uuid\":\"89166b0c-ebd9-43b0-aa45-c70ac6e02e71\",\"username\":\"crazyostrich608\",\"password\":\"report\",\"salt\":\"ZmOF5oAI\",\"md5\":\"289869ae2bbce0c01af4359d7a590327\",\"sha1\":\"840a8b54480ad6aabc9e07e17e20509848e687e7\",\"sha256\":\"a56d39e3a82352e217384b2baeac8da93df6901baefd5fadcee99da1a3ef3a20\"},\"dob\":{\"date\":\"1988-07-13T03:50:43.592Z\",\"age\":32},\"registered\":{\"date\":\"2003-06-18T07:40:06.574Z\",\"age\":17},\"phone\":\"(265)-814-0943\",\"cell\":\"(500)-668-4494\",\"id\":{\"name\":\"SSN\",\"value\":\"844-21-6677\"},\"picture\":{\"large\":\"https://randomuser.me/api/portraits/men/69.jpg\",\"medium\":\"https://randomuser.me/api/portraits/med/men/69.jpg\",\"thumbnail\":\"https://randomuser.me/api/portraits/thumb/men/69.jpg\"},\"nat\":\"US\"},{\"gender\":\"male\",\"name\":{\"title\":\"Mr\",\"first\":\"Jeffrey\",\"last\":\"Fisher\"},\"location\":{\"street\":{\"number\":358,\"name\":\"W Campbell Ave\"},\"city\":\"Olathe\",\"state\":\"Delaware\",\"country\":\"United States\",\"postcode\":96278,\"coordinates\":{\"latitude\":\"-83.3619\",\"longitude\":\"-57.7462\"},\"timezone\":{\"offset\":\"+1:00\",\"description\":\"Brussels, Copenhagen, Madrid, Paris\"}},\"email\":\"jeffrey.fisher@example.com\",\"login\":{\"uuid\":\"1d4910b0-fdce-46ea-a5a8-333b73241695\",\"username\":\"goldenrabbit213\",\"password\":\"woodland\",\"salt\":\"bzOhrau3\",\"md5\":\"055501876030bb790ae720148cb5afe5\",\"sha1\":\"f38e33c8b39b1f6fc3ba0a60ba510085eb3b7fd2\",\"sha256\":\"e1d1d3447162cea6df3f9eeb6c53bbb843355b336414eacd14f3c1e051130c41\"},\"dob\":{\"date\":\"1989-12-20T23:20:01.198Z\",\"age\":31},\"registered\":{\"date\":\"2002-08-11T09:36:18.437Z\",\"age\":18},\"phone\":\"(495)-942-0269\",\"cell\":\"(790)-263-0678\",\"id\":{\"name\":\"SSN\",\"value\":\"912-87-9361\"},\"picture\":{\"large\":\"https://randomuser.me/api/portraits/men/85.jpg\",\"medium\":\"https://randomuser.me/api/portraits/med/men/85.jpg\",\"thumbnail\":\"https://randomuser.me/api/portraits/thumb/men/85.jpg\"},\"nat\":\"US\"},{\"gender\":\"male\",\"name\":{\"title\":\"Mr\",\"first\":\"Mark\",\"last\":\"Phillips\"},\"location\":{\"street\":{\"number\":134,\"name\":\"Blossom Hill Rd\"},\"city\":\"Tampa\",\"state\":\"Indiana\",\"country\":\"United States\",\"postcode\":11174,\"coordinates\":{\"latitude\":\"-43.3983\",\"longitude\":\"-140.8315\"},\"timezone\":{\"offset\":\"0:00\",\"description\":\"Western Europe Time, London, Lisbon, Casablanca\"}},\"email\":\"mark.phillips@example.com\",\"login\":{\"uuid\":\"1e032693-4411-4927-b957-58d3a8e368b4\",\"username\":\"heavypanda357\",\"password\":\"boobed\",\"salt\":\"Fb0Wokwq\",\"md5\":\"3b7bbc16e35eb15486e7e05cde4f3c1c\",\"sha1\":\"6202b883f5c7d129f9ff7936ea369665018bb7e4\",\"sha256\":\"fdfb161cd2c1da48bd5fd10b66167ebff803e353271f249e48253846fa04b08d\"},\"dob\":{\"date\":\"1957-07-08T00:21:14.934Z\",\"age\":63},\"registered\":{\"date\":\"2017-04-15T13:36:55.944Z\",\"age\":3},\"phone\":\"(293)-539-3241\",\"cell\":\"(368)-516-6081\",\"id\":{\"name\":\"SSN\",\"value\":\"385-70-6682\"},\"picture\":{\"large\":\"https://randomuser.me/api/portraits/men/24.jpg\",\"medium\":\"https://randomuser.me/api/portraits/med/men/24.jpg\",\"thumbnail\":\"https://randomuser.me/api/portraits/thumb/men/24.jpg\"},\"nat\":\"US\"},{\"gender\":\"male\",\"name\":{\"title\":\"Mr\",\"first\":\"Arron\",\"last\":\"Rice\"},\"location\":{\"street\":{\"number\":2301,\"name\":\"Hillcrest Rd\"},\"city\":\"Providence\",\"state\":\"New York\",\"country\":\"United States\",\"postcode\":46102,\"coordinates\":{\"latitude\":\"30.4331\",\"longitude\":\"23.5367\"},\"timezone\":{\"offset\":\"-12:00\",\"description\":\"Eniwetok, Kwajalein\"}},\"email\":\"arron.rice@example.com\",\"login\":{\"uuid\":\"c1b4a8d1-61e7-4690-8aad-77f7d6642a9c\",\"username\":\"redsnake662\",\"password\":\"allegro\",\"salt\":\"K9fN4eE6\",\"md5\":\"4df2351284d8a68c4b88e4a66950ed30\",\"sha1\":\"0025e4633c5db4f3b8ebbb15afe34c5ba627ab51\",\"sha256\":\"ea01ba6adcfffb63d5a352389d115b6284008aa791b95363e7371f8dc3c6d7fe\"},\"dob\":{\"date\":\"1985-12-28T08:15:43.347Z\",\"age\":35},\"registered\":{\"date\":\"2005-04-22T15:10:56.643Z\",\"age\":15},\"phone\":\"(122)-065-1917\",\"cell\":\"(212)-248-4552\",\"id\":{\"name\":\"SSN\",\"value\":\"571-35-1144\"},\"picture\":{\"large\":\"https://randomuser.me/api/portraits/men/76.jpg\",\"medium\":\"https://randomuser.me/api/portraits/med/men/76.jpg\",\"thumbnail\":\"https://randomuser.me/api/portraits/thumb/men/76.jpg\"},\"nat\":\"US\"},{\"gender\":\"male\",\"name\":{\"title\":\"Mr\",\"first\":\"Marion\",\"last\":\"Rogers\"},\"location\":{\"street\":{\"number\":6604,\"name\":\"Green Rd\"},\"city\":\"Columbus\",\"state\":\"Tennessee\",\"country\":\"United States\",\"postcode\":75360,\"coordinates\":{\"latitude\":\"42.1278\",\"longitude\":\"71.3004\"},\"timezone\":{\"offset\":\"-10:00\",\"description\":\"Hawaii\"}},\"email\":\"marion.rogers@example.com\",\"login\":{\"uuid\":\"7370ea2f-06a2-4405-af5c-2d0d6f8f7404\",\"username\":\"orangeladybug933\",\"password\":\"happy2\",\"salt\":\"cCZMilN7\",\"md5\":\"37e64bc23d7f601d1c6c7c24eaaf6826\",\"sha1\":\"4e6a7124897299fe60dd8ace1e7d432ecf06bd61\",\"sha256\":\"f5ec08f3bb4a2496a3b7962633ade5f7f83020bd835dd33ece46295764c1e2d8\"},\"dob\":{\"date\":\"1955-09-02T01:16:01.002Z\",\"age\":65},\"registered\":{\"date\":\"2005-08-14T01:35:53.101Z\",\"age\":15},\"phone\":\"(545)-836-9120\",\"cell\":\"(381)-479-0070\",\"id\":{\"name\":\"SSN\",\"value\":\"142-64-5424\"},\"picture\":{\"large\":\"https://randomuser.me/api/portraits/men/83.jpg\",\"medium\":\"https://randomuser.me/api/portraits/med/men/83.jpg\",\"thumbnail\":\"https://randomuser.me/api/portraits/thumb/men/83.jpg\"},\"nat\":\"US\"},{\"gender\":\"male\",\"name\":{\"title\":\"Mr\",\"first\":\"Wayne\",\"last\":\"Hunter\"},\"location\":{\"street\":{\"number\":7126,\"name\":\"Mockingbird Hill\"},\"city\":\"Fargo\",\"state\":\"Illinois\",\"country\":\"United States\",\"postcode\":59929,\"coordinates\":{\"latitude\":\"31.1276\",\"longitude\":\"157.5830\"},\"timezone\":{\"offset\":\"-7:00\",\"description\":\"Mountain Time (US & Canada)\"}},\"email\":\"wayne.hunter@example.com\",\"login\":{\"uuid\":\"cf13951b-bee3-43dc-b692-eab700e4080f\",\"username\":\"angryduck701\",\"password\":\"puppydog\",\"salt\":\"Lm9c0Pbn\",\"md5\":\"c81b3939585b4801d799765103d2c811\",\"sha1\":\"e6549b62c29de4a7ea23135afbdb07cea117ec29\",\"sha256\":\"16aa8ac9550c3949c46087f01e8887f03b9cbcb1eb0d46c5aaa36133760b1f4e\"},\"dob\":{\"date\":\"1968-04-22T07:25:08.405Z\",\"age\":52},\"registered\":{\"date\":\"2008-11-04T11:10:05.680Z\",\"age\":12},\"phone\":\"(548)-240-1286\",\"cell\":\"(201)-279-5348\",\"id\":{\"name\":\"SSN\",\"value\":\"107-58-2930\"},\"picture\":{\"large\":\"https://randomuser.me/api/portraits/men/73.jpg\",\"medium\":\"https://randomuser.me/api/portraits/med/men/73.jpg\",\"thumbnail\":\"https://randomuser.me/api/portraits/thumb/men/73.jpg\"},\"nat\":\"US\"}],\"info\":{\"seed\":\"828623ff252b243a\",\"results\":10,\"page\":1,\"version\":\"1.3\"}}'"
      ]
     },
     "execution_count": 4,
     "metadata": {},
     "output_type": "execute_result"
    }
   ],
   "source": [
    "response.text"
   ]
  },
  {
   "cell_type": "code",
   "execution_count": 5,
   "metadata": {},
   "outputs": [],
   "source": [
    "data = json.loads(response.text)"
   ]
  },
  {
   "cell_type": "code",
   "execution_count": 7,
   "metadata": {},
   "outputs": [
    {
     "data": {
      "text/plain": [
       "dict"
      ]
     },
     "execution_count": 7,
     "metadata": {},
     "output_type": "execute_result"
    }
   ],
   "source": [
    "type(data)"
   ]
  },
  {
   "cell_type": "code",
   "execution_count": 6,
   "metadata": {},
   "outputs": [
    {
     "name": "stdout",
     "output_type": "stream",
     "text": [
      "{'info': {'page': 1,\n",
      "          'results': 10,\n",
      "          'seed': '828623ff252b243a',\n",
      "          'version': '1.3'},\n",
      " 'results': [{'cell': '(414)-399-2226',\n",
      "              'dob': {'age': 35, 'date': '1985-03-09T08:34:23.977Z'},\n",
      "              'email': 'clarence.bryant@example.com',\n",
      "              'gender': 'male',\n",
      "              'id': {'name': 'SSN', 'value': '534-84-4458'},\n",
      "              'location': {'city': 'Boulder',\n",
      "                           'coordinates': {'latitude': '-67.7936',\n",
      "                                           'longitude': '-117.4332'},\n",
      "                           'country': 'United States',\n",
      "                           'postcode': 14026,\n",
      "                           'state': 'Ohio',\n",
      "                           'street': {'name': 'Taylor St', 'number': 488},\n",
      "                           'timezone': {'description': 'Alaska',\n",
      "                                        'offset': '-9:00'}},\n",
      "              'login': {'md5': '5857678ad118a533565e33b8a13e4f7d',\n",
      "                        'password': 'russia',\n",
      "                        'salt': 'e9bUgBQX',\n",
      "                        'sha1': '91c6903588d566dc1fd78575d90697c79533595f',\n",
      "                        'sha256': '351c0a4b5e744f30c83bfd2aa14effee55d757f6d6a3716b8c02ebbfc42e0c2c',\n",
      "                        'username': 'yellowgorilla574',\n",
      "                        'uuid': '120d1b01-f0c1-47ac-8f68-bb447d5ad678'},\n",
      "              'name': {'first': 'Clarence', 'last': 'Bryant', 'title': 'Mr'},\n",
      "              'nat': 'US',\n",
      "              'phone': '(248)-368-4452',\n",
      "              'picture': {'large': 'https://randomuser.me/api/portraits/men/30.jpg',\n",
      "                          'medium': 'https://randomuser.me/api/portraits/med/men/30.jpg',\n",
      "                          'thumbnail': 'https://randomuser.me/api/portraits/thumb/men/30.jpg'},\n",
      "              'registered': {'age': 5, 'date': '2015-04-27T22:57:37.738Z'}},\n",
      "             {'cell': '(698)-842-8042',\n",
      "              'dob': {'age': 47, 'date': '1973-08-02T14:34:47.611Z'},\n",
      "              'email': 'johnni.bell@example.com',\n",
      "              'gender': 'male',\n",
      "              'id': {'name': 'SSN', 'value': '434-26-9165'},\n",
      "              'location': {'city': 'Tucson',\n",
      "                           'coordinates': {'latitude': '-47.1911',\n",
      "                                           'longitude': '-14.0607'},\n",
      "                           'country': 'United States',\n",
      "                           'postcode': 60708,\n",
      "                           'state': 'Idaho',\n",
      "                           'street': {'name': 'Cackson St', 'number': 5155},\n",
      "                           'timezone': {'description': 'Azores, Cape Verde '\n",
      "                                                       'Islands',\n",
      "                                        'offset': '-1:00'}},\n",
      "              'login': {'md5': '719e05e1eb2763251950b4aa2628f24f',\n",
      "                        'password': 'picasso',\n",
      "                        'salt': 'jaygeI2h',\n",
      "                        'sha1': 'cd00b0e11ca2a10212770947b6bec3ccdea55468',\n",
      "                        'sha256': '576b07143b0df352222c9ba546e56a27cc5072c1c563755b1b1f65b1430b20f4',\n",
      "                        'username': 'purplefrog800',\n",
      "                        'uuid': '174ee443-a857-4d77-b9e6-80681e392061'},\n",
      "              'name': {'first': 'Johnni', 'last': 'Bell', 'title': 'Mr'},\n",
      "              'nat': 'US',\n",
      "              'phone': '(336)-445-2259',\n",
      "              'picture': {'large': 'https://randomuser.me/api/portraits/men/67.jpg',\n",
      "                          'medium': 'https://randomuser.me/api/portraits/med/men/67.jpg',\n",
      "                          'thumbnail': 'https://randomuser.me/api/portraits/thumb/men/67.jpg'},\n",
      "              'registered': {'age': 3, 'date': '2017-10-08T20:05:17.866Z'}},\n",
      "             {'cell': '(088)-785-1608',\n",
      "              'dob': {'age': 32, 'date': '1988-07-31T20:16:14.831Z'},\n",
      "              'email': 'alberto.edwards@example.com',\n",
      "              'gender': 'male',\n",
      "              'id': {'name': 'SSN', 'value': '623-74-0673'},\n",
      "              'location': {'city': 'Pasadena',\n",
      "                           'coordinates': {'latitude': '-76.6508',\n",
      "                                           'longitude': '20.7214'},\n",
      "                           'country': 'United States',\n",
      "                           'postcode': 21893,\n",
      "                           'state': 'Vermont',\n",
      "                           'street': {'name': 'Bruce St', 'number': 1461},\n",
      "                           'timezone': {'description': 'Pacific Time (US & '\n",
      "                                                       'Canada)',\n",
      "                                        'offset': '-8:00'}},\n",
      "              'login': {'md5': '9c42245b84ab6e3b5a0273adecf62283',\n",
      "                        'password': 'bigfish',\n",
      "                        'salt': 'A0eXMUOQ',\n",
      "                        'sha1': '7583a0802e321ea6940d500dc25f2412892c4b19',\n",
      "                        'sha256': 'fe0cbe50e78203501e45473bf81d6f3edb926440caa529fb2e9fba8c7001ce7e',\n",
      "                        'username': 'organicswan476',\n",
      "                        'uuid': 'd2b95c8e-a44a-4679-b48e-afcd73c06466'},\n",
      "              'name': {'first': 'Alberto', 'last': 'Edwards', 'title': 'Mr'},\n",
      "              'nat': 'US',\n",
      "              'phone': '(846)-855-1346',\n",
      "              'picture': {'large': 'https://randomuser.me/api/portraits/men/81.jpg',\n",
      "                          'medium': 'https://randomuser.me/api/portraits/med/men/81.jpg',\n",
      "                          'thumbnail': 'https://randomuser.me/api/portraits/thumb/men/81.jpg'},\n",
      "              'registered': {'age': 7, 'date': '2013-07-31T09:28:52.213Z'}},\n",
      "             {'cell': '(314)-532-1190',\n",
      "              'dob': {'age': 28, 'date': '1992-01-12T04:24:48.232Z'},\n",
      "              'email': 'armando.chavez@example.com',\n",
      "              'gender': 'male',\n",
      "              'id': {'name': 'SSN', 'value': '214-52-2210'},\n",
      "              'location': {'city': 'Anna',\n",
      "                           'coordinates': {'latitude': '-16.8765',\n",
      "                                           'longitude': '-85.6696'},\n",
      "                           'country': 'United States',\n",
      "                           'postcode': 21114,\n",
      "                           'state': 'Kentucky',\n",
      "                           'street': {'name': 'Bruce St', 'number': 4429},\n",
      "                           'timezone': {'description': 'Tokyo, Seoul, Osaka, '\n",
      "                                                       'Sapporo, Yakutsk',\n",
      "                                        'offset': '+9:00'}},\n",
      "              'login': {'md5': 'a76072640a4ee60d9ff823f67f9b252e',\n",
      "                        'password': 'studly',\n",
      "                        'salt': '1sLfbSb0',\n",
      "                        'sha1': 'bec3e930f91e8e63ef838002f6fd17c143f1f3cc',\n",
      "                        'sha256': '747023e1ddfce68a9e62ea89b071c3508fdd6a4a8761786b32eb74e65682bac4',\n",
      "                        'username': 'smallwolf474',\n",
      "                        'uuid': 'ae2a8e03-221a-4e26-b1c9-baa29d6cacd7'},\n",
      "              'name': {'first': 'Armando', 'last': 'Chavez', 'title': 'Mr'},\n",
      "              'nat': 'US',\n",
      "              'phone': '(365)-222-7421',\n",
      "              'picture': {'large': 'https://randomuser.me/api/portraits/men/17.jpg',\n",
      "                          'medium': 'https://randomuser.me/api/portraits/med/men/17.jpg',\n",
      "                          'thumbnail': 'https://randomuser.me/api/portraits/thumb/men/17.jpg'},\n",
      "              'registered': {'age': 7, 'date': '2013-03-18T22:41:58.424Z'}},\n",
      "             {'cell': '(500)-668-4494',\n",
      "              'dob': {'age': 32, 'date': '1988-07-13T03:50:43.592Z'},\n",
      "              'email': 'chester.james@example.com',\n",
      "              'gender': 'male',\n",
      "              'id': {'name': 'SSN', 'value': '844-21-6677'},\n",
      "              'location': {'city': 'Jackson',\n",
      "                           'coordinates': {'latitude': '32.4556',\n",
      "                                           'longitude': '143.6194'},\n",
      "                           'country': 'United States',\n",
      "                           'postcode': 56266,\n",
      "                           'state': 'Kentucky',\n",
      "                           'street': {'name': 'Harrison Ct', 'number': 5654},\n",
      "                           'timezone': {'description': 'Magadan, Solomon '\n",
      "                                                       'Islands, New Caledonia',\n",
      "                                        'offset': '+11:00'}},\n",
      "              'login': {'md5': '289869ae2bbce0c01af4359d7a590327',\n",
      "                        'password': 'report',\n",
      "                        'salt': 'ZmOF5oAI',\n",
      "                        'sha1': '840a8b54480ad6aabc9e07e17e20509848e687e7',\n",
      "                        'sha256': 'a56d39e3a82352e217384b2baeac8da93df6901baefd5fadcee99da1a3ef3a20',\n",
      "                        'username': 'crazyostrich608',\n",
      "                        'uuid': '89166b0c-ebd9-43b0-aa45-c70ac6e02e71'},\n",
      "              'name': {'first': 'Chester', 'last': 'James', 'title': 'Mr'},\n",
      "              'nat': 'US',\n",
      "              'phone': '(265)-814-0943',\n",
      "              'picture': {'large': 'https://randomuser.me/api/portraits/men/69.jpg',\n",
      "                          'medium': 'https://randomuser.me/api/portraits/med/men/69.jpg',\n",
      "                          'thumbnail': 'https://randomuser.me/api/portraits/thumb/men/69.jpg'},\n",
      "              'registered': {'age': 17, 'date': '2003-06-18T07:40:06.574Z'}},\n",
      "             {'cell': '(790)-263-0678',\n",
      "              'dob': {'age': 31, 'date': '1989-12-20T23:20:01.198Z'},\n",
      "              'email': 'jeffrey.fisher@example.com',\n",
      "              'gender': 'male',\n",
      "              'id': {'name': 'SSN', 'value': '912-87-9361'},\n",
      "              'location': {'city': 'Olathe',\n",
      "                           'coordinates': {'latitude': '-83.3619',\n",
      "                                           'longitude': '-57.7462'},\n",
      "                           'country': 'United States',\n",
      "                           'postcode': 96278,\n",
      "                           'state': 'Delaware',\n",
      "                           'street': {'name': 'W Campbell Ave', 'number': 358},\n",
      "                           'timezone': {'description': 'Brussels, Copenhagen, '\n",
      "                                                       'Madrid, Paris',\n",
      "                                        'offset': '+1:00'}},\n",
      "              'login': {'md5': '055501876030bb790ae720148cb5afe5',\n",
      "                        'password': 'woodland',\n",
      "                        'salt': 'bzOhrau3',\n",
      "                        'sha1': 'f38e33c8b39b1f6fc3ba0a60ba510085eb3b7fd2',\n",
      "                        'sha256': 'e1d1d3447162cea6df3f9eeb6c53bbb843355b336414eacd14f3c1e051130c41',\n",
      "                        'username': 'goldenrabbit213',\n",
      "                        'uuid': '1d4910b0-fdce-46ea-a5a8-333b73241695'},\n",
      "              'name': {'first': 'Jeffrey', 'last': 'Fisher', 'title': 'Mr'},\n",
      "              'nat': 'US',\n",
      "              'phone': '(495)-942-0269',\n",
      "              'picture': {'large': 'https://randomuser.me/api/portraits/men/85.jpg',\n",
      "                          'medium': 'https://randomuser.me/api/portraits/med/men/85.jpg',\n",
      "                          'thumbnail': 'https://randomuser.me/api/portraits/thumb/men/85.jpg'},\n",
      "              'registered': {'age': 18, 'date': '2002-08-11T09:36:18.437Z'}},\n",
      "             {'cell': '(368)-516-6081',\n",
      "              'dob': {'age': 63, 'date': '1957-07-08T00:21:14.934Z'},\n",
      "              'email': 'mark.phillips@example.com',\n",
      "              'gender': 'male',\n",
      "              'id': {'name': 'SSN', 'value': '385-70-6682'},\n",
      "              'location': {'city': 'Tampa',\n",
      "                           'coordinates': {'latitude': '-43.3983',\n",
      "                                           'longitude': '-140.8315'},\n",
      "                           'country': 'United States',\n",
      "                           'postcode': 11174,\n",
      "                           'state': 'Indiana',\n",
      "                           'street': {'name': 'Blossom Hill Rd', 'number': 134},\n",
      "                           'timezone': {'description': 'Western Europe Time, '\n",
      "                                                       'London, Lisbon, '\n",
      "                                                       'Casablanca',\n",
      "                                        'offset': '0:00'}},\n",
      "              'login': {'md5': '3b7bbc16e35eb15486e7e05cde4f3c1c',\n",
      "                        'password': 'boobed',\n",
      "                        'salt': 'Fb0Wokwq',\n",
      "                        'sha1': '6202b883f5c7d129f9ff7936ea369665018bb7e4',\n",
      "                        'sha256': 'fdfb161cd2c1da48bd5fd10b66167ebff803e353271f249e48253846fa04b08d',\n",
      "                        'username': 'heavypanda357',\n",
      "                        'uuid': '1e032693-4411-4927-b957-58d3a8e368b4'},\n",
      "              'name': {'first': 'Mark', 'last': 'Phillips', 'title': 'Mr'},\n",
      "              'nat': 'US',\n",
      "              'phone': '(293)-539-3241',\n",
      "              'picture': {'large': 'https://randomuser.me/api/portraits/men/24.jpg',\n",
      "                          'medium': 'https://randomuser.me/api/portraits/med/men/24.jpg',\n",
      "                          'thumbnail': 'https://randomuser.me/api/portraits/thumb/men/24.jpg'},\n",
      "              'registered': {'age': 3, 'date': '2017-04-15T13:36:55.944Z'}},\n",
      "             {'cell': '(212)-248-4552',\n",
      "              'dob': {'age': 35, 'date': '1985-12-28T08:15:43.347Z'},\n",
      "              'email': 'arron.rice@example.com',\n",
      "              'gender': 'male',\n",
      "              'id': {'name': 'SSN', 'value': '571-35-1144'},\n",
      "              'location': {'city': 'Providence',\n",
      "                           'coordinates': {'latitude': '30.4331',\n",
      "                                           'longitude': '23.5367'},\n",
      "                           'country': 'United States',\n",
      "                           'postcode': 46102,\n",
      "                           'state': 'New York',\n",
      "                           'street': {'name': 'Hillcrest Rd', 'number': 2301},\n",
      "                           'timezone': {'description': 'Eniwetok, Kwajalein',\n",
      "                                        'offset': '-12:00'}},\n",
      "              'login': {'md5': '4df2351284d8a68c4b88e4a66950ed30',\n",
      "                        'password': 'allegro',\n",
      "                        'salt': 'K9fN4eE6',\n",
      "                        'sha1': '0025e4633c5db4f3b8ebbb15afe34c5ba627ab51',\n",
      "                        'sha256': 'ea01ba6adcfffb63d5a352389d115b6284008aa791b95363e7371f8dc3c6d7fe',\n",
      "                        'username': 'redsnake662',\n",
      "                        'uuid': 'c1b4a8d1-61e7-4690-8aad-77f7d6642a9c'},\n",
      "              'name': {'first': 'Arron', 'last': 'Rice', 'title': 'Mr'},\n",
      "              'nat': 'US',\n",
      "              'phone': '(122)-065-1917',\n",
      "              'picture': {'large': 'https://randomuser.me/api/portraits/men/76.jpg',\n",
      "                          'medium': 'https://randomuser.me/api/portraits/med/men/76.jpg',\n",
      "                          'thumbnail': 'https://randomuser.me/api/portraits/thumb/men/76.jpg'},\n",
      "              'registered': {'age': 15, 'date': '2005-04-22T15:10:56.643Z'}},\n",
      "             {'cell': '(381)-479-0070',\n",
      "              'dob': {'age': 65, 'date': '1955-09-02T01:16:01.002Z'},\n",
      "              'email': 'marion.rogers@example.com',\n",
      "              'gender': 'male',\n",
      "              'id': {'name': 'SSN', 'value': '142-64-5424'},\n",
      "              'location': {'city': 'Columbus',\n",
      "                           'coordinates': {'latitude': '42.1278',\n",
      "                                           'longitude': '71.3004'},\n",
      "                           'country': 'United States',\n",
      "                           'postcode': 75360,\n",
      "                           'state': 'Tennessee',\n",
      "                           'street': {'name': 'Green Rd', 'number': 6604},\n",
      "                           'timezone': {'description': 'Hawaii',\n",
      "                                        'offset': '-10:00'}},\n",
      "              'login': {'md5': '37e64bc23d7f601d1c6c7c24eaaf6826',\n",
      "                        'password': 'happy2',\n",
      "                        'salt': 'cCZMilN7',\n",
      "                        'sha1': '4e6a7124897299fe60dd8ace1e7d432ecf06bd61',\n",
      "                        'sha256': 'f5ec08f3bb4a2496a3b7962633ade5f7f83020bd835dd33ece46295764c1e2d8',\n",
      "                        'username': 'orangeladybug933',\n",
      "                        'uuid': '7370ea2f-06a2-4405-af5c-2d0d6f8f7404'},\n",
      "              'name': {'first': 'Marion', 'last': 'Rogers', 'title': 'Mr'},\n",
      "              'nat': 'US',\n",
      "              'phone': '(545)-836-9120',\n",
      "              'picture': {'large': 'https://randomuser.me/api/portraits/men/83.jpg',\n",
      "                          'medium': 'https://randomuser.me/api/portraits/med/men/83.jpg',\n",
      "                          'thumbnail': 'https://randomuser.me/api/portraits/thumb/men/83.jpg'},\n",
      "              'registered': {'age': 15, 'date': '2005-08-14T01:35:53.101Z'}},\n",
      "             {'cell': '(201)-279-5348',\n",
      "              'dob': {'age': 52, 'date': '1968-04-22T07:25:08.405Z'},\n",
      "              'email': 'wayne.hunter@example.com',\n",
      "              'gender': 'male',\n",
      "              'id': {'name': 'SSN', 'value': '107-58-2930'},\n",
      "              'location': {'city': 'Fargo',\n",
      "                           'coordinates': {'latitude': '31.1276',\n",
      "                                           'longitude': '157.5830'},\n",
      "                           'country': 'United States',\n",
      "                           'postcode': 59929,\n",
      "                           'state': 'Illinois',\n",
      "                           'street': {'name': 'Mockingbird Hill',\n",
      "                                      'number': 7126},\n",
      "                           'timezone': {'description': 'Mountain Time (US & '\n",
      "                                                       'Canada)',\n",
      "                                        'offset': '-7:00'}},\n",
      "              'login': {'md5': 'c81b3939585b4801d799765103d2c811',\n",
      "                        'password': 'puppydog',\n",
      "                        'salt': 'Lm9c0Pbn',\n",
      "                        'sha1': 'e6549b62c29de4a7ea23135afbdb07cea117ec29',\n",
      "                        'sha256': '16aa8ac9550c3949c46087f01e8887f03b9cbcb1eb0d46c5aaa36133760b1f4e',\n",
      "                        'username': 'angryduck701',\n",
      "                        'uuid': 'cf13951b-bee3-43dc-b692-eab700e4080f'},\n",
      "              'name': {'first': 'Wayne', 'last': 'Hunter', 'title': 'Mr'},\n",
      "              'nat': 'US',\n",
      "              'phone': '(548)-240-1286',\n",
      "              'picture': {'large': 'https://randomuser.me/api/portraits/men/73.jpg',\n",
      "                          'medium': 'https://randomuser.me/api/portraits/med/men/73.jpg',\n",
      "                          'thumbnail': 'https://randomuser.me/api/portraits/thumb/men/73.jpg'},\n",
      "              'registered': {'age': 12, 'date': '2008-11-04T11:10:05.680Z'}}]}\n"
     ]
    }
   ],
   "source": [
    "# pprint prints it prettier\n",
    "from pprint import pprint\n",
    "pprint(data)"
   ]
  },
  {
   "cell_type": "code",
   "execution_count": 8,
   "metadata": {},
   "outputs": [
    {
     "name": "stdout",
     "output_type": "stream",
     "text": [
      "Clarence\n",
      "Johnni\n",
      "Alberto\n",
      "Armando\n",
      "Chester\n",
      "Jeffrey\n",
      "Mark\n",
      "Arron\n",
      "Marion\n",
      "Wayne\n"
     ]
    }
   ],
   "source": [
    "# loop through the dict and get the first names\n",
    "for i in data[\"results\"]:\n",
    "    print (i[\"name\"][\"first\"])"
   ]
  },
  {
   "cell_type": "code",
   "execution_count": 11,
   "metadata": {},
   "outputs": [
    {
     "name": "stdout",
     "output_type": "stream",
     "text": [
      "200\n"
     ]
    }
   ],
   "source": [
    "# 22\n",
    "# Astronauts in space\n",
    "\n",
    "response_2 = requests.get(\"http://api.open-notify.org/astros.json\")\n",
    "print(response_2.status_code)"
   ]
  },
  {
   "cell_type": "code",
   "execution_count": 13,
   "metadata": {},
   "outputs": [],
   "source": [
    "data_2 = json.loads(response_2.text)"
   ]
  },
  {
   "cell_type": "code",
   "execution_count": 14,
   "metadata": {},
   "outputs": [
    {
     "name": "stdout",
     "output_type": "stream",
     "text": [
      "{'message': 'success',\n",
      " 'number': 3,\n",
      " 'people': [{'craft': 'ISS', 'name': 'Chris Cassidy'},\n",
      "            {'craft': 'ISS', 'name': 'Anatoly Ivanishin'},\n",
      "            {'craft': 'ISS', 'name': 'Ivan Vagner'}]}\n"
     ]
    }
   ],
   "source": [
    "pprint(data_2)"
   ]
  },
  {
   "cell_type": "code",
   "execution_count": 15,
   "metadata": {},
   "outputs": [
    {
     "name": "stdout",
     "output_type": "stream",
     "text": [
      "3\n"
     ]
    }
   ],
   "source": [
    "# 23 People in Space\n",
    "\n",
    "print(data_2['number'])"
   ]
  },
  {
   "cell_type": "code",
   "execution_count": 16,
   "metadata": {},
   "outputs": [
    {
     "name": "stdout",
     "output_type": "stream",
     "text": [
      "Chris Cassidy\n",
      "Anatoly Ivanishin\n",
      "Ivan Vagner\n"
     ]
    }
   ],
   "source": [
    "# 24 their names\n",
    "\n",
    "for i in data_2['people']:\n",
    "    print(i['name'])"
   ]
  },
  {
   "cell_type": "code",
   "execution_count": null,
   "metadata": {},
   "outputs": [],
   "source": []
  }
 ],
 "metadata": {
  "kernelspec": {
   "display_name": "Python 3",
   "language": "python",
   "name": "python3"
  },
  "language_info": {
   "codemirror_mode": {
    "name": "ipython",
    "version": 3
   },
   "file_extension": ".py",
   "mimetype": "text/x-python",
   "name": "python",
   "nbconvert_exporter": "python",
   "pygments_lexer": "ipython3",
   "version": "3.7.6"
  }
 },
 "nbformat": 4,
 "nbformat_minor": 4
}
