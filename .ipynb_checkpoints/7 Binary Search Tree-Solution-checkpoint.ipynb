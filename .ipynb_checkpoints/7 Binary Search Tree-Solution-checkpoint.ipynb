{
 "cells": [
  {
   "cell_type": "markdown",
   "metadata": {},
   "source": [
    "Animation: https://www.cs.usfca.edu/~galles/visualization/BST.html"
   ]
  },
  {
   "cell_type": "markdown",
   "metadata": {},
   "source": [
    "This code got inspired by following notebooks:\n",
    "https://www.geeksforgeeks.org/binary-search-tree-set-1-search-and-insertion/\n",
    "https://github.com/luisdiegocm/HWR_BigData_Repo/blob/master/7%20Binary%20Search%20Tree-%20ldconejo.ipynb\n",
    "https://www.geeksforgeeks.org/insert-a-node-in-binary-search-tree-iteratively/?ref=rp"
   ]
  },
  {
   "cell_type": "code",
   "execution_count": 1,
   "metadata": {},
   "outputs": [],
   "source": [
    "class Node:\n",
    "    \"\"\"\n",
    "    Tree node with left and right child and data\n",
    "    \"\"\"\n",
    "    def __init__(self, data):\n",
    "        self.data = data\n",
    "        self.left = None\n",
    "        self.right = None\n",
    "        "
   ]
  },
  {
   "cell_type": "code",
   "execution_count": 2,
   "metadata": {},
   "outputs": [],
   "source": [
    "class Tree:\n",
    "    def __init__(self):\n",
    "        \"\"\"Create an empty binary search tree\"\"\"\n",
    "        self.root = None\n",
    "    \n",
    "    def insert(self, item):\n",
    "        \"\"\"Add an item in the binary search tree\"\"\"\n",
    "        if self.root is None:\n",
    "            self.root = Node(item)\n",
    "        else:\n",
    "            root = self.root\n",
    "            node = self.root\n",
    "            while node is not None:\n",
    "                if (node.data < item):\n",
    "                    root = node\n",
    "                    node = node.right\n",
    "                else:\n",
    "                    root = node\n",
    "                    node = node.left\n",
    "            if (root.data < item):\n",
    "                root.right = Node(item)\n",
    "            else:\n",
    "                root.left = Node(item)\n",
    "    \n",
    "    def find(self, item):\n",
    "        \"\"\"Returns true if item is in the tree or false otherwise\"\"\"\n",
    "        if (self.root == item):\n",
    "            return True\n",
    "        else:\n",
    "            node = self.root\n",
    "            while node is not None:\n",
    "                if (node.data == item):\n",
    "                    return True\n",
    "                elif (node.data < item):\n",
    "                    node = node.right\n",
    "                else:\n",
    "                    node = node.left\n",
    "        return False\n",
    "        "
   ]
  },
  {
   "cell_type": "code",
   "execution_count": 3,
   "metadata": {},
   "outputs": [],
   "source": [
    "tree = Tree()"
   ]
  },
  {
   "cell_type": "code",
   "execution_count": 4,
   "metadata": {},
   "outputs": [],
   "source": [
    "tree.insert(30)\n",
    "tree.insert(5)\n",
    "tree.insert(50)\n",
    "tree.insert(8)\n",
    "tree.insert(3)\n",
    "tree.insert(100)\n",
    "tree.insert(40)"
   ]
  },
  {
   "cell_type": "code",
   "execution_count": 5,
   "metadata": {},
   "outputs": [
    {
     "data": {
      "text/plain": [
       "True"
      ]
     },
     "execution_count": 5,
     "metadata": {},
     "output_type": "execute_result"
    }
   ],
   "source": [
    "tree.find(8)"
   ]
  },
  {
   "cell_type": "code",
   "execution_count": 6,
   "metadata": {},
   "outputs": [
    {
     "data": {
      "text/plain": [
       "False"
      ]
     },
     "execution_count": 6,
     "metadata": {},
     "output_type": "execute_result"
    }
   ],
   "source": [
    "tree.find(9)"
   ]
  },
  {
   "cell_type": "markdown",
   "metadata": {},
   "source": [
    "## Why is the worst case time complexity of the find method only $O(n)$ and not $O(log n)$?"
   ]
  },
  {
   "cell_type": "code",
   "execution_count": null,
   "metadata": {},
   "outputs": [],
   "source": [
    "#"
   ]
  }
 ],
 "metadata": {
  "kernelspec": {
   "display_name": "Python 3",
   "language": "python",
   "name": "python3"
  },
  "language_info": {
   "codemirror_mode": {
    "name": "ipython",
    "version": 3
   },
   "file_extension": ".py",
   "mimetype": "text/x-python",
   "name": "python",
   "nbconvert_exporter": "python",
   "pygments_lexer": "ipython3",
   "version": "3.7.6"
  },
  "varInspector": {
   "cols": {
    "lenName": 16,
    "lenType": 16,
    "lenVar": 40
   },
   "kernels_config": {
    "python": {
     "delete_cmd_postfix": "",
     "delete_cmd_prefix": "del ",
     "library": "var_list.py",
     "varRefreshCmd": "print(var_dic_list())"
    },
    "r": {
     "delete_cmd_postfix": ") ",
     "delete_cmd_prefix": "rm(",
     "library": "var_list.r",
     "varRefreshCmd": "cat(var_dic_list()) "
    }
   },
   "types_to_exclude": [
    "module",
    "function",
    "builtin_function_or_method",
    "instance",
    "_Feature"
   ],
   "window_display": false
  }
 },
 "nbformat": 4,
 "nbformat_minor": 2
}
